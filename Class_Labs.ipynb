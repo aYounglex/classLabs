{
  "nbformat": 4,
  "nbformat_minor": 0,
  "metadata": {
    "colab": {
      "name": "Class Labs.ipynb",
      "provenance": [],
      "toc_visible": true,
      "authorship_tag": "ABX9TyNmeTSfgTZH80QW+HDzE3Fr"
    },
    "kernelspec": {
      "name": "python3",
      "display_name": "Python 3"
    },
    "language_info": {
      "name": "python"
    }
  },
  "cells": [
    {
      "cell_type": "code",
      "metadata": {
        "colab": {
          "base_uri": "https://localhost:8080/"
        },
        "id": "27f2KYKN1gg5",
        "outputId": "56df747e-3ce6-46bd-9282-c77af72634f0"
      },
      "source": [
        "x_string = input(\"Enter 1st number:\")\n",
        "y_string = input(\"Enter 2nd number:\")\n",
        "##creates two variables that accept user input\n",
        "\n",
        "#print(\"Sum: \", x_string + y_string)\n",
        "##prints a combined result of the inputs instead of mathematical operation\n",
        "\n",
        "x = int(x_string)\n",
        "y = int(y_string)\n",
        "##int() function casts variables from the String data type to Integer data type\n",
        "##for printing result of mathematical operation\n",
        "\n",
        "print(\"Sum: \", x + y)\n",
        "\n",
        "print(\"Difference: \", x - y)\n",
        "\n",
        "print(\"Multiplication: \", x * y)\n",
        "\n",
        "print(\"Division: \", x / y)\n",
        "\n",
        "print(\"Remainder: \", x % y)\n",
        "## a modulo operation\n"
      ],
      "execution_count": 9,
      "outputs": [
        {
          "output_type": "stream",
          "text": [
            "Enter 1st number:10\n",
            "Enter 2nd number:5\n",
            "Sum:  15\n",
            "Difference:  5\n",
            "Multiplication:  50\n",
            "Division:  2.0\n",
            "Remainder:  0\n"
          ],
          "name": "stdout"
        }
      ]
    },
    {
      "cell_type": "markdown",
      "metadata": {
        "id": "KAOgp3gFC04H"
      },
      "source": [
        "***Working with User Input***"
      ]
    }
  ]
}